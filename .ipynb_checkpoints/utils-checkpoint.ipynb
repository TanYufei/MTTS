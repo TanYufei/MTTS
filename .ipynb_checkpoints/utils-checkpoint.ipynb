{
 "cells": [
  {
   "cell_type": "code",
   "execution_count": null,
   "metadata": {},
   "outputs": [],
   "source": [
    "# 展示音频的时谱图\n",
    "import wave\n",
    "import os\n",
    "import matplotlib.pyplot as plt\n",
    "import numpy as np\n",
    "%matplotlib inline\n",
    "\n",
    "wavname = 'path2yourwav.wav'\n",
    "\n",
    "wavereader = wave.open(wavname, 'rb')\n",
    "params = wavereader.getparams()\n",
    "nchannels, sampwidth, framerate, nframes = params[:4]\n",
    "strData = wavereader.readframes(nframes)#读取音频，字符串格式\n",
    "waveData = np.frombuffer(strData,dtype=np.int16)#将字符串转化为int\n",
    "waveData = waveData*1.0/(max(abs(waveData)))#wave幅值归一化\n",
    "\n",
    "# plot the wave\n",
    "time = np.arange(0,nframes)*(1.0 / framerate)\n",
    "plt.plot(time,waveData)\n",
    "plt.xlabel(\"Time(s)\")\n",
    "plt.ylabel(\"Amplitude\")\n",
    "plt.title(\"Single channel wavedata\")\n",
    "plt.grid('on')#标尺，on：有，off:无。"
   ]
  },
  {
   "cell_type": "code",
   "execution_count": null,
   "metadata": {
    "collapsed": true
   },
   "outputs": [],
   "source": [
    "# 将forced alignment的结果转换为sfs文件\n"
   ]
  }
 ],
 "metadata": {
  "kernelspec": {
   "display_name": "Python 3",
   "language": "python",
   "name": "python3"
  },
  "language_info": {
   "codemirror_mode": {
    "name": "ipython",
    "version": 3
   },
   "file_extension": ".py",
   "mimetype": "text/x-python",
   "name": "python",
   "nbconvert_exporter": "python",
   "pygments_lexer": "ipython3",
   "version": "3.6.3"
  }
 },
 "nbformat": 4,
 "nbformat_minor": 2
}
